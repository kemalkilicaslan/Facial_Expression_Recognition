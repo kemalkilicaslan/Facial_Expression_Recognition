{
 "cells": [
  {
   "cell_type": "markdown",
   "metadata": {
    "id": "TVZJB6C5vobN"
   },
   "source": [
    "# Facial Expression Recognition\n",
    "\n",
    "The FER-2013 dataset, short for Facial Expression Recognition 2013 dataset, created for the Facial Expression Recognition Challenge, consists of 35887 images with a resolution of 48x48 pixels, 28709 images for training and 7178 images for testing, depicting facial expressions corresponding to seven different emotion classes: Angry, Disgust, Fear, Happy, Sad, Surprise and Neutral.  This dataset is often used to train and evaluate machine learning models for facial expression recognition tasks."
   ]
  },
  {
   "cell_type": "markdown",
   "metadata": {
    "id": "Csakwg5i9QcR"
   },
   "source": [
    "## Install Packages and Dataset"
   ]
  },
  {
   "cell_type": "code",
   "execution_count": 1,
   "metadata": {
    "colab": {
     "base_uri": "https://localhost:8080/"
    },
    "id": "aLv5Cl7pYfr1",
    "outputId": "b02ebbce-38d6-4b7d-cede-7554d8a34f92"
   },
   "outputs": [
    {
     "name": "stdout",
     "output_type": "stream",
     "text": [
      "Cloning into 'Facial_Expression_Recognition'...\n",
      "remote: Enumerating objects: 34063, done.\u001b[K\n",
      "remote: Total 34063 (delta 0), reused 0 (delta 0), pack-reused 34063\u001b[K\n",
      "Receiving objects: 100% (34063/34063), 67.10 MiB | 16.03 MiB/s, done.\n",
      "Resolving deltas: 100% (5/5), done.\n",
      "Updating files: 100% (35898/35898), done.\n",
      "Collecting timm\n",
      "  Downloading timm-0.9.12-py3-none-any.whl (2.2 MB)\n",
      "\u001b[2K     \u001b[90m━━━━━━━━━━━━━━━━━━━━━━━━━━━━━━━━━━━━━━━━\u001b[0m \u001b[32m2.2/2.2 MB\u001b[0m \u001b[31m20.6 MB/s\u001b[0m eta \u001b[36m0:00:00\u001b[0m\n",
      "\u001b[?25hRequirement already satisfied: torch>=1.7 in /usr/local/lib/python3.10/dist-packages (from timm) (2.1.0+cu121)\n",
      "Requirement already satisfied: torchvision in /usr/local/lib/python3.10/dist-packages (from timm) (0.16.0+cu121)\n",
      "Requirement already satisfied: pyyaml in /usr/local/lib/python3.10/dist-packages (from timm) (6.0.1)\n",
      "Requirement already satisfied: huggingface-hub in /usr/local/lib/python3.10/dist-packages (from timm) (0.20.2)\n",
      "Requirement already satisfied: safetensors in /usr/local/lib/python3.10/dist-packages (from timm) (0.4.1)\n",
      "Requirement already satisfied: filelock in /usr/local/lib/python3.10/dist-packages (from torch>=1.7->timm) (3.13.1)\n",
      "Requirement already satisfied: typing-extensions in /usr/local/lib/python3.10/dist-packages (from torch>=1.7->timm) (4.5.0)\n",
      "Requirement already satisfied: sympy in /usr/local/lib/python3.10/dist-packages (from torch>=1.7->timm) (1.12)\n",
      "Requirement already satisfied: networkx in /usr/local/lib/python3.10/dist-packages (from torch>=1.7->timm) (3.2.1)\n",
      "Requirement already satisfied: jinja2 in /usr/local/lib/python3.10/dist-packages (from torch>=1.7->timm) (3.1.2)\n",
      "Requirement already satisfied: fsspec in /usr/local/lib/python3.10/dist-packages (from torch>=1.7->timm) (2023.6.0)\n",
      "Requirement already satisfied: triton==2.1.0 in /usr/local/lib/python3.10/dist-packages (from torch>=1.7->timm) (2.1.0)\n",
      "Requirement already satisfied: requests in /usr/local/lib/python3.10/dist-packages (from huggingface-hub->timm) (2.31.0)\n",
      "Requirement already satisfied: tqdm>=4.42.1 in /usr/local/lib/python3.10/dist-packages (from huggingface-hub->timm) (4.66.1)\n",
      "Requirement already satisfied: packaging>=20.9 in /usr/local/lib/python3.10/dist-packages (from huggingface-hub->timm) (23.2)\n",
      "Requirement already satisfied: numpy in /usr/local/lib/python3.10/dist-packages (from torchvision->timm) (1.23.5)\n",
      "Requirement already satisfied: pillow!=8.3.*,>=5.3.0 in /usr/local/lib/python3.10/dist-packages (from torchvision->timm) (9.4.0)\n",
      "Requirement already satisfied: MarkupSafe>=2.0 in /usr/local/lib/python3.10/dist-packages (from jinja2->torch>=1.7->timm) (2.1.3)\n",
      "Requirement already satisfied: charset-normalizer<4,>=2 in /usr/local/lib/python3.10/dist-packages (from requests->huggingface-hub->timm) (3.3.2)\n",
      "Requirement already satisfied: idna<4,>=2.5 in /usr/local/lib/python3.10/dist-packages (from requests->huggingface-hub->timm) (3.6)\n",
      "Requirement already satisfied: urllib3<3,>=1.21.1 in /usr/local/lib/python3.10/dist-packages (from requests->huggingface-hub->timm) (2.0.7)\n",
      "Requirement already satisfied: certifi>=2017.4.17 in /usr/local/lib/python3.10/dist-packages (from requests->huggingface-hub->timm) (2023.11.17)\n",
      "Requirement already satisfied: mpmath>=0.19 in /usr/local/lib/python3.10/dist-packages (from sympy->torch>=1.7->timm) (1.3.0)\n",
      "Installing collected packages: timm\n",
      "Successfully installed timm-0.9.12\n"
     ]
    }
   ],
   "source": [
    "!git clone https://github.com/kemalkilicaslan/Facial_Expression_Recognition.git\n",
    "!pip install timm"
   ]
  },
  {
   "cell_type": "markdown",
   "metadata": {
    "id": "xoVVdBpoweEk"
   },
   "source": [
    "## Imports"
   ]
  },
  {
   "cell_type": "code",
   "execution_count": 2,
   "metadata": {
    "id": "creZrxH0vv20"
   },
   "outputs": [],
   "source": [
    "import numpy as np\n",
    "import matplotlib.pyplot as plt\n",
    "import torch"
   ]
  },
  {
   "cell_type": "markdown",
   "metadata": {
    "id": "p5604GKdwtAr"
   },
   "source": [
    "## Configurations"
   ]
  },
  {
   "cell_type": "code",
   "execution_count": 3,
   "metadata": {
    "id": "dd6v8vyGwp3F"
   },
   "outputs": [],
   "source": [
    "train_img_folder_path = '/content/Facial_Expression_Recognition/train'\n",
    "test_img_folder_path = '/content/Facial_Expression_Recognition/test'"
   ]
  },
  {
   "cell_type": "code",
   "execution_count": 4,
   "metadata": {
    "id": "S_-ndOFg5vNm"
   },
   "outputs": [],
   "source": [
    "lr = 0.001\n",
    "batch_size=32\n",
    "epochs=20\n",
    "device = 'cuda'\n",
    "model_name='efficientnet'"
   ]
  },
  {
   "cell_type": "markdown",
   "metadata": {
    "id": "wn5jWAF9xDUY"
   },
   "source": [
    "## Load Dataset"
   ]
  },
  {
   "cell_type": "code",
   "execution_count": 5,
   "metadata": {
    "id": "uvujfkVHxJ0V"
   },
   "outputs": [],
   "source": [
    "from torchvision.datasets import ImageFolder\n",
    "from torchvision import transforms as T"
   ]
  },
  {
   "cell_type": "code",
   "execution_count": 6,
   "metadata": {
    "id": "Jqf-Ktqsx9WL"
   },
   "outputs": [],
   "source": [
    "train_aug = T.Compose([\n",
    "    T.RandomHorizontalFlip(p=0.5),\n",
    "    T.RandomRotation(degrees=(-20, +20)),\n",
    "    T.ToTensor() # PIL / numpy arr -> torch tensor -> (h, w,c) -> (c, h, w)\n",
    "])\n",
    "\n",
    "test_aug= T.Compose([\n",
    "    T.ToTensor()\n",
    "])"
   ]
  },
  {
   "cell_type": "code",
   "execution_count": 7,
   "metadata": {
    "colab": {
     "base_uri": "https://localhost:8080/"
    },
    "id": "oeU1NfmYxC7J",
    "outputId": "c005228d-7cc5-49bc-fa59-442eac845e51"
   },
   "outputs": [
    {
     "name": "stdout",
     "output_type": "stream",
     "text": [
      "Total no. of examples in trainset : 28709\n",
      "Total no. of examples in testset : 7178\n"
     ]
    }
   ],
   "source": [
    "trainset = ImageFolder(train_img_folder_path, transform = train_aug)\n",
    "testset = ImageFolder(test_img_folder_path, transform = test_aug)\n",
    "\n",
    "print(f\"Total no. of examples in trainset : {len(trainset)}\")\n",
    "print(f\"Total no. of examples in testset : {len(testset)}\")"
   ]
  },
  {
   "cell_type": "code",
   "execution_count": 8,
   "metadata": {
    "colab": {
     "base_uri": "https://localhost:8080/"
    },
    "id": "NtoA4SRny_vz",
    "outputId": "c2ecf46d-2e94-4e78-8d9c-9d39d45c91e1"
   },
   "outputs": [
    {
     "name": "stdout",
     "output_type": "stream",
     "text": [
      "{'angry': 0, 'disgust': 1, 'fear': 2, 'happy': 3, 'neutral': 4, 'sad': 5, 'surprise': 6}\n"
     ]
    }
   ],
   "source": [
    "print(trainset.class_to_idx)"
   ]
  },
  {
   "cell_type": "code",
   "execution_count": 9,
   "metadata": {
    "colab": {
     "base_uri": "https://localhost:8080/",
     "height": 470
    },
    "id": "0-b1SLqNw91J",
    "outputId": "d834a3cb-814d-45f0-f639-5f1641505224"
   },
   "outputs": [
    {
     "data": {
      "text/plain": [
       "Text(0.5, 1.0, '0')"
      ]
     },
     "execution_count": 9,
     "metadata": {},
     "output_type": "execute_result"
    },
    {
     "data": {
      "image/png": "[encoded data removed]",
      "text/plain": [
       "<Figure size 640x480 with 1 Axes>"
      ]
     },
     "metadata": {},
     "output_type": "display_data"
    }
   ],
   "source": [
    "image, label = trainset[40]\n",
    "plt.imshow(image.permute(1,2,0)) #(h, w, c)\n",
    "plt.title(label)"
   ]
  },
  {
   "cell_type": "code",
   "execution_count": 10,
   "metadata": {
    "colab": {
     "base_uri": "https://localhost:8080/",
     "height": 470
    },
    "id": "YdTj0phDVazo",
    "outputId": "125301f1-37b3-4858-80f7-4f2732582bdf"
   },
   "outputs": [
    {
     "data": {
      "text/plain": [
       "Text(0.5, 1.0, '0')"
      ]
     },
     "execution_count": 10,
     "metadata": {},
     "output_type": "execute_result"
    },
    {
     "data": {
      "image/png": "[encoded data removed]",
      "text/plain": [
       "<Figure size 640x480 with 1 Axes>"
      ]
     },
     "metadata": {},
     "output_type": "display_data"
    }
   ],
   "source": [
    "image, label = testset[40]\n",
    "plt.imshow(image.permute(1,2,0)) #(h, w, c)\n",
    "plt.title(label)"
   ]
  },
  {
   "cell_type": "code",
   "execution_count": 11,
   "metadata": {
    "id": "egpuikhHymP7"
   },
   "outputs": [],
   "source": [
    "from torch.utils.data import DataLoader"
   ]
  },
  {
   "cell_type": "code",
   "execution_count": 12,
   "metadata": {
    "colab": {
     "base_uri": "https://localhost:8080/"
    },
    "id": "Pea8G9-HzhuZ",
    "outputId": "5cbcd6e3-c9a4-4343-9b55-2feaafc24766"
   },
   "outputs": [
    {
     "name": "stdout",
     "output_type": "stream",
     "text": [
      "Total no. of batches in trainloader : 898\n",
      "Total no. of batches in testloader : 225\n"
     ]
    }
   ],
   "source": [
    "trainloader = DataLoader(trainset, batch_size = batch_size, shuffle=True)\n",
    "testloader = DataLoader(testset, batch_size, batch_size)\n",
    "\n",
    "print(f\"Total no. of batches in trainloader : {len(trainloader)}\")\n",
    "print(f\"Total no. of batches in testloader : {len(testloader)}\")"
   ]
  },
  {
   "cell_type": "code",
   "execution_count": 13,
   "metadata": {
    "colab": {
     "base_uri": "https://localhost:8080/"
    },
    "id": "vtVSVVj-zp1C",
    "outputId": "01662cc9-4101-4e9f-cfb4-19717878860f"
   },
   "outputs": [
    {
     "name": "stdout",
     "output_type": "stream",
     "text": [
      "One image batch shape : torch.Size([32, 3, 48, 48])\n",
      "One label batch shape : torch.Size([32])\n"
     ]
    }
   ],
   "source": [
    "for images, labels in trainloader:\n",
    "  break;\n",
    "\n",
    "print(f\"One image batch shape : {images.shape}\")\n",
    "print(f\"One label batch shape : {labels.shape}\")"
   ]
  },
  {
   "cell_type": "markdown",
   "metadata": {
    "id": "GQvgvbKu0TUG"
   },
   "source": [
    "## Create Model"
   ]
  },
  {
   "cell_type": "code",
   "execution_count": 14,
   "metadata": {
    "id": "iqwWf5-O0SWP"
   },
   "outputs": [],
   "source": [
    "import timm\n",
    "from torch import nn"
   ]
  },
  {
   "cell_type": "code",
   "execution_count": 15,
   "metadata": {
    "id": "U6uJZmUw0XJX"
   },
   "outputs": [],
   "source": [
    "class FaceRecognitionModel(nn.Module):\n",
    "\n",
    "  def __init__(self):\n",
    "    super(FaceRecognitionModel, self).__init__()\n",
    "\n",
    "    self.eff_net = timm.create_model('efficientnet_b0', pretrained = True, num_classes = 7)\n",
    "\n",
    "  def forward(self, images, labels = None):\n",
    "    logits = self.eff_net(images)\n",
    "\n",
    "    if labels != None:\n",
    "      loss = nn.CrossEntropyLoss()(logits, labels)\n",
    "      return logits, loss\n",
    "\n",
    "    return logits"
   ]
  },
  {
   "cell_type": "code",
   "execution_count": 16,
   "metadata": {
    "colab": {
     "base_uri": "https://localhost:8080/",
     "height": 156,
     "referenced_widgets": [
      "9dfa674838a347d1ab8a3ec64fa78612",
      "29ec1e57262c40998aeceb5d4e4b851d",
      "3488b4b8a647497c98c42334e2e136aa",
      "7804c7631c884320809965a499fdf1f0",
      "91e08585db464e82bb152bc7b916b8ac",
      "f71b8a43cd4143bfb23fe9624e55e532",
      "a746ed84b66f4cd5b35691fc8ce27a91",
      "7ff73e4cdd06495bbfc791fc1f8b04ec",
      "3d40e256807b42e493b7b410c67ec591",
      "e073f57533d84d64a8fa1864aac6e0b9",
      "1b9598c1b1d745808d362b794d4bc81e"
     ]
    },
    "id": "hgp5OjEO0_2w",
    "outputId": "0df5ede9-1190-4bf8-abcd-095d7a42ff6d"
   },
   "outputs": [
    {
     "name": "stderr",
     "output_type": "stream",
     "text": [
      "/usr/local/lib/python3.10/dist-packages/huggingface_hub/utils/_token.py:88: UserWarning: \n",
      "The secret `HF_TOKEN` does not exist in your Colab secrets.\n",
      "To authenticate with the Hugging Face Hub, create a token in your settings tab (https://huggingface.co/settings/tokens), set it as secret in your Google Colab and restart your session.\n",
      "You will be able to reuse this secret in all of your notebooks.\n",
      "Please note that authentication is recommended but still optional to access public models or datasets.\n",
      "  warnings.warn(\n"
     ]
    },
    {
     "data": {
      "application/vnd.jupyter.widget-view+json": {
       "model_id": "9dfa674838a347d1ab8a3ec64fa78612",
       "version_major": 2,
       "version_minor": 0
      },
      "text/plain": [
       "model.safetensors:   0%|          | 0.00/21.4M [00:00<?, ?B/s]"
      ]
     },
     "metadata": {},
     "output_type": "display_data"
    }
   ],
   "source": [
    "model = FaceRecognitionModel()\n",
    "model.to(device);"
   ]
  },
  {
   "cell_type": "markdown",
   "metadata": {
    "id": "GzDb6TdaCpF5"
   },
   "source": [
    "## Create Train and Eval Function"
   ]
  },
  {
   "cell_type": "code",
   "execution_count": 17,
   "metadata": {
    "id": "eLQVQA0PVjX8"
   },
   "outputs": [],
   "source": [
    "from tqdm import tqdm"
   ]
  },
  {
   "cell_type": "code",
   "execution_count": 18,
   "metadata": {
    "id": "esp-tSrxTiPX"
   },
   "outputs": [],
   "source": [
    "def multiclass_accuracy(y_pred,y_true):\n",
    "    top_p,top_class = y_pred.topk(1,dim = 1)\n",
    "    equals = top_class == y_true.view(*top_class.shape)\n",
    "    return torch.mean(equals.type(torch.FloatTensor))"
   ]
  },
  {
   "cell_type": "code",
   "execution_count": 19,
   "metadata": {
    "id": "QBim_pZxColX"
   },
   "outputs": [],
   "source": [
    "def train_func(model, dataloader, optimizer, epoch):\n",
    "  model.train()\n",
    "  total_loss = 0.0\n",
    "  total_acc = 0.0\n",
    "  tk = tqdm(dataloader, desc = \"epoch\" + \"[train]\" + str(epoch + 1) +  \"/\" + str(epochs))\n",
    "\n",
    "  for t, data in enumerate(tk):\n",
    "    images, labels = data\n",
    "    images, labels = images.to(device), labels.to(device)\n",
    "\n",
    "    optimizer.zero_grad()\n",
    "    logits, loss = model(images, labels)\n",
    "    loss.backward()\n",
    "    optimizer.step()\n",
    "\n",
    "    total_loss += loss.item()\n",
    "    total_acc += multiclass_accuracy(logits, labels)\n",
    "    tk.set_postfix({'loss' : '%6f' %float(total_loss / (t + 1)), 'acc' : '%6f' %float(total_acc / (t + 1)),})\n",
    "\n",
    "  return total_loss / len(dataloader), total_acc / len(dataloader)"
   ]
  },
  {
   "cell_type": "code",
   "execution_count": 20,
   "metadata": {
    "id": "T3eGYNqR1FeL"
   },
   "outputs": [],
   "source": [
    "def eval_func(model, dataloader, epoch):\n",
    "  model.eval()\n",
    "  total_loss = 0.0\n",
    "  total_acc = 0.0\n",
    "  tk = tqdm(dataloader, desc = \"epoch\" + \"[train]\" + str(epoch + 1) +  \"/\" + str(epochs))\n",
    "\n",
    "  for t, data in enumerate(tk):\n",
    "    images, labels = data\n",
    "    images, labels = images.to(device), labels.to(device)\n",
    "\n",
    "    logits, loss = model(images, labels)\n",
    "\n",
    "    total_loss += loss.item()\n",
    "    total_acc += multiclass_accuracy(logits, labels)\n",
    "    tk.set_postfix({'loss' : '%6f' %float(total_loss / (t + 1)), 'acc' : '%6f' %float(total_acc / (t + 1)),})\n",
    "\n",
    "  return total_loss / len(dataloader), total_acc / len(dataloader)"
   ]
  },
  {
   "cell_type": "markdown",
   "metadata": {
    "id": "f2YsWQvsXiKG"
   },
   "source": [
    "## Model Training"
   ]
  },
  {
   "cell_type": "code",
   "execution_count": 21,
   "metadata": {
    "id": "mbKd9D7pWeM_"
   },
   "outputs": [],
   "source": [
    "optimizer = torch.optim.Adam(model.parameters(),lr = lr)"
   ]
  },
  {
   "cell_type": "code",
   "execution_count": 22,
   "metadata": {
    "colab": {
     "base_uri": "https://localhost:8080/"
    },
    "id": "E8yzdLmLXkC-",
    "outputId": "6ee2fc74-e08f-42fa-84f7-3ea49b13ad8d"
   },
   "outputs": [
    {
     "name": "stderr",
     "output_type": "stream",
     "text": [
      "epoch[train]1/20: 100%|██████████| 898/898 [00:53<00:00, 16.93it/s, loss=1.826254, acc=0.382893]\n",
      "epoch[train]1/20: 100%|██████████| 225/225 [00:06<00:00, 35.25it/s, loss=1.361929, acc=0.473222]\n"
     ]
    },
    {
     "name": "stdout",
     "output_type": "stream",
     "text": [
      "Saved best-weights\n"
     ]
    },
    {
     "name": "stderr",
     "output_type": "stream",
     "text": [
      "epoch[train]2/20: 100%|██████████| 898/898 [00:51<00:00, 17.60it/s, loss=1.293115, acc=0.508797]\n",
      "epoch[train]2/20: 100%|██████████| 225/225 [00:07<00:00, 31.86it/s, loss=1.169665, acc=0.551556]\n"
     ]
    },
    {
     "name": "stdout",
     "output_type": "stream",
     "text": [
      "Saved best-weights\n"
     ]
    },
    {
     "name": "stderr",
     "output_type": "stream",
     "text": [
      "epoch[train]3/20: 100%|██████████| 898/898 [00:51<00:00, 17.57it/s, loss=1.193605, acc=0.547146]\n",
      "epoch[train]3/20: 100%|██████████| 225/225 [00:06<00:00, 35.52it/s, loss=1.167089, acc=0.560250]\n"
     ]
    },
    {
     "name": "stdout",
     "output_type": "stream",
     "text": [
      "Saved best-weights\n"
     ]
    },
    {
     "name": "stderr",
     "output_type": "stream",
     "text": [
      "epoch[train]4/20: 100%|██████████| 898/898 [00:52<00:00, 17.12it/s, loss=1.141166, acc=0.568875]\n",
      "epoch[train]4/20: 100%|██████████| 225/225 [00:07<00:00, 31.19it/s, loss=1.124356, acc=0.575806]\n"
     ]
    },
    {
     "name": "stdout",
     "output_type": "stream",
     "text": [
      "Saved best-weights\n"
     ]
    },
    {
     "name": "stderr",
     "output_type": "stream",
     "text": [
      "epoch[train]5/20: 100%|██████████| 898/898 [00:51<00:00, 17.47it/s, loss=1.098124, acc=0.589880]\n",
      "epoch[train]5/20: 100%|██████████| 225/225 [00:06<00:00, 34.90it/s, loss=1.103011, acc=0.590722]\n"
     ]
    },
    {
     "name": "stdout",
     "output_type": "stream",
     "text": [
      "Saved best-weights\n"
     ]
    },
    {
     "name": "stderr",
     "output_type": "stream",
     "text": [
      "epoch[train]6/20: 100%|██████████| 898/898 [00:51<00:00, 17.40it/s, loss=1.066784, acc=0.599374]\n",
      "epoch[train]6/20: 100%|██████████| 225/225 [00:07<00:00, 31.27it/s, loss=1.075633, acc=0.594278]\n"
     ]
    },
    {
     "name": "stdout",
     "output_type": "stream",
     "text": [
      "Saved best-weights\n"
     ]
    },
    {
     "name": "stderr",
     "output_type": "stream",
     "text": [
      "epoch[train]7/20: 100%|██████████| 898/898 [00:52<00:00, 17.19it/s, loss=1.038542, acc=0.609869]\n",
      "epoch[train]7/20: 100%|██████████| 225/225 [00:06<00:00, 34.63it/s, loss=1.037396, acc=0.616028]\n"
     ]
    },
    {
     "name": "stdout",
     "output_type": "stream",
     "text": [
      "Saved best-weights\n"
     ]
    },
    {
     "name": "stderr",
     "output_type": "stream",
     "text": [
      "epoch[train]8/20: 100%|██████████| 898/898 [00:51<00:00, 17.56it/s, loss=1.014691, acc=0.620031]\n",
      "epoch[train]8/20: 100%|██████████| 225/225 [00:07<00:00, 31.70it/s, loss=1.066045, acc=0.598389]\n",
      "epoch[train]9/20: 100%|██████████| 898/898 [00:50<00:00, 17.68it/s, loss=0.987903, acc=0.627499]\n",
      "epoch[train]9/20: 100%|██████████| 225/225 [00:06<00:00, 34.18it/s, loss=1.051137, acc=0.605833]\n",
      "epoch[train]10/20: 100%|██████████| 898/898 [00:51<00:00, 17.28it/s, loss=0.959626, acc=0.643555]\n",
      "epoch[train]10/20: 100%|██████████| 225/225 [00:06<00:00, 33.84it/s, loss=1.057377, acc=0.609861]\n",
      "epoch[train]11/20: 100%|██████████| 898/898 [00:50<00:00, 17.73it/s, loss=0.927390, acc=0.653035]\n",
      "epoch[train]11/20: 100%|██████████| 225/225 [00:07<00:00, 31.47it/s, loss=1.027363, acc=0.627861]\n"
     ]
    },
    {
     "name": "stdout",
     "output_type": "stream",
     "text": [
      "Saved best-weights\n"
     ]
    },
    {
     "name": "stderr",
     "output_type": "stream",
     "text": [
      "epoch[train]12/20: 100%|██████████| 898/898 [00:50<00:00, 17.64it/s, loss=0.900384, acc=0.661546]\n",
      "epoch[train]12/20: 100%|██████████| 225/225 [00:06<00:00, 35.34it/s, loss=1.001174, acc=0.634056]\n"
     ]
    },
    {
     "name": "stdout",
     "output_type": "stream",
     "text": [
      "Saved best-weights\n"
     ]
    },
    {
     "name": "stderr",
     "output_type": "stream",
     "text": [
      "epoch[train]13/20: 100%|██████████| 898/898 [00:51<00:00, 17.33it/s, loss=0.867132, acc=0.675550]\n",
      "epoch[train]13/20: 100%|██████████| 225/225 [00:07<00:00, 31.66it/s, loss=0.992073, acc=0.637111]\n"
     ]
    },
    {
     "name": "stdout",
     "output_type": "stream",
     "text": [
      "Saved best-weights\n"
     ]
    },
    {
     "name": "stderr",
     "output_type": "stream",
     "text": [
      "epoch[train]14/20: 100%|██████████| 898/898 [00:50<00:00, 17.68it/s, loss=0.840561, acc=0.688544]\n",
      "epoch[train]14/20: 100%|██████████| 225/225 [00:06<00:00, 34.59it/s, loss=1.003687, acc=0.631556]\n",
      "epoch[train]15/20: 100%|██████████| 898/898 [00:50<00:00, 17.65it/s, loss=0.812158, acc=0.697112]\n",
      "epoch[train]15/20: 100%|██████████| 225/225 [00:07<00:00, 31.50it/s, loss=1.012400, acc=0.644111]\n",
      "epoch[train]16/20: 100%|██████████| 898/898 [00:51<00:00, 17.42it/s, loss=0.785455, acc=0.706890]\n",
      "epoch[train]16/20: 100%|██████████| 225/225 [00:07<00:00, 31.58it/s, loss=1.022393, acc=0.636167]\n",
      "epoch[train]17/20: 100%|██████████| 898/898 [00:51<00:00, 17.46it/s, loss=0.753879, acc=0.717198]\n",
      "epoch[train]17/20: 100%|██████████| 225/225 [00:06<00:00, 35.13it/s, loss=1.094419, acc=0.613222]\n",
      "epoch[train]18/20: 100%|██████████| 898/898 [00:50<00:00, 17.70it/s, loss=0.725911, acc=0.730310]\n",
      "epoch[train]18/20: 100%|██████████| 225/225 [00:07<00:00, 28.97it/s, loss=1.009356, acc=0.655389]\n",
      "epoch[train]19/20: 100%|██████████| 898/898 [00:50<00:00, 17.74it/s, loss=0.700277, acc=0.741606]\n",
      "epoch[train]19/20: 100%|██████████| 225/225 [00:06<00:00, 36.04it/s, loss=0.991358, acc=0.654111]\n"
     ]
    },
    {
     "name": "stdout",
     "output_type": "stream",
     "text": [
      "Saved best-weights\n"
     ]
    },
    {
     "name": "stderr",
     "output_type": "stream",
     "text": [
      "epoch[train]20/20: 100%|██████████| 898/898 [00:50<00:00, 17.68it/s, loss=0.672303, acc=0.749325]\n",
      "epoch[train]20/20: 100%|██████████| 225/225 [00:07<00:00, 31.96it/s, loss=1.070224, acc=0.633722]\n"
     ]
    }
   ],
   "source": [
    "best_test_loss = np.Inf\n",
    "\n",
    "for i in range(epochs):\n",
    "  train_loss, train_acc = train_func(model, trainloader, optimizer, i)\n",
    "  test_loss, test_acc = eval_func(model, testloader, i)\n",
    "\n",
    "  if test_loss < best_test_loss:\n",
    "    torch.save(model.state_dict(), 'best-weights.pt')\n",
    "    print(\"Saved best-weights\")\n",
    "    best_test_loss = test_loss"
   ]
  },
  {
   "cell_type": "markdown",
   "metadata": {
    "id": "cjiklrErXkZ6"
   },
   "source": [
    "## Result"
   ]
  },
  {
   "cell_type": "code",
   "execution_count": 23,
   "metadata": {
    "id": "8iozgi4xhLNg"
   },
   "outputs": [],
   "source": [
    "def view_classify(img, ps):\n",
    "\n",
    "    classes = ['angry', 'disgust', 'fear', 'happy', 'neutral', 'sad', 'surprise']\n",
    "\n",
    "    ps = ps.data.cpu().numpy().squeeze()\n",
    "    img = img.numpy().transpose(1,2,0)\n",
    "\n",
    "    fig, (ax1, ax2) = plt.subplots(figsize=(5,9), ncols=2)\n",
    "    ax1.imshow(img)\n",
    "    ax1.axis('off')\n",
    "    ax2.barh(classes, ps)\n",
    "    ax2.set_aspect(0.1)\n",
    "    ax2.set_yticks(classes)\n",
    "    ax2.set_yticklabels(classes)\n",
    "    ax2.set_title('Class Probability')\n",
    "    ax2.set_xlim(0, 1.1)\n",
    "\n",
    "    plt.tight_layout()\n",
    "\n",
    "    return None"
   ]
  },
  {
   "cell_type": "code",
   "execution_count": 24,
   "metadata": {
    "colab": {
     "base_uri": "https://localhost:8080/",
     "height": 1000
    },
    "id": "--1gRsfS3qpr",
    "outputId": "51a2a7ac-a222-4f6b-e552-97022b090f72"
   },
   "outputs": [
    {
     "name": "stdout",
     "output_type": "stream",
     "text": [
      "True Label: angry, Predicted Label: disgust, Predicted Probability: 0.7471802830696106\n",
      "True Label: disgust, Predicted Label: disgust, Predicted Probability: 0.9846369028091431\n",
      "True Label: fear, Predicted Label: fear, Predicted Probability: 0.5837821364402771\n",
      "True Label: happy, Predicted Label: happy, Predicted Probability: 0.9693137407302856\n",
      "True Label: neutral, Predicted Label: happy, Predicted Probability: 0.8458672761917114\n",
      "True Label: sad, Predicted Label: angry, Predicted Probability: 0.6017364263534546\n",
      "True Label: surprise, Predicted Label: surprise, Predicted Probability: 0.6609428524971008\n"
     ]
    },
    {
     "data": {
      "image/png": "[encoded data removed]",
      "text/plain": [
       "<Figure size 500x900 with 2 Axes>"
      ]
     },
     "metadata": {},
     "output_type": "display_data"
    },
    {
     "data": {
      "image/png": "[encoded data removed]",
      "text/plain": [
       "<Figure size 500x900 with 2 Axes>"
      ]
     },
     "metadata": {},
     "output_type": "display_data"
    },
    {
     "data": {
      "image/png": "[encoded data removed]",
      "text/plain": [
       "<Figure size 500x900 with 2 Axes>"
      ]
     },
     "metadata": {},
     "output_type": "display_data"
    },
    {
     "data": {
      "image/png": "[encoded data removed]",
      "text/plain": [
       "<Figure size 500x900 with 2 Axes>"
      ]
     },
     "metadata": {},
     "output_type": "display_data"
    },
    {
     "data": {
      "image/png": "[encoded data removed]",
      "text/plain": [
       "<Figure size 500x900 with 2 Axes>"
      ]
     },
     "metadata": {},
     "output_type": "display_data"
    },
    {
     "data": {
      "image/png": "[encoded data removed]",
      "text/plain": [
       "<Figure size 500x900 with 2 Axes>"
      ]
     },
     "metadata": {},
     "output_type": "display_data"
    },
    {
     "data": {
      "image/png": "[encoded data removed]",
      "text/plain": [
       "<Figure size 500x900 with 2 Axes>"
      ]
     },
     "metadata": {},
     "output_type": "display_data"
    }
   ],
   "source": [
    "def predict(model, dataloader, num_class=7):\n",
    "    model.eval()\n",
    "    images, labels = next(iter(dataloader))\n",
    "    images, labels = images.to(device), labels.to(device)\n",
    "    with torch.no_grad():\n",
    "        logits = model(images)\n",
    "        ps = torch.softmax(logits, dim=1)\n",
    "        top_p, top_class = ps.topk(1, dim=1)\n",
    "\n",
    "    for i in range(num_class):\n",
    "        for j, image in enumerate(images):\n",
    "            label = labels[j].item()\n",
    "            predicted_class = top_class[j].item()\n",
    "            predicted_prob = top_p[j].item()\n",
    "\n",
    "            predicted_label = trainset.classes[predicted_class]\n",
    "            true_label = trainset.classes[label]\n",
    "\n",
    "            if true_label == trainset.classes[i]:\n",
    "                print(f\"True Label: {true_label}, Predicted Label: {predicted_label}, Predicted Probability: {predicted_prob}\")\n",
    "                view_classify(image.cpu(), ps[j])\n",
    "                break  # Show only the first prediction for each class\n",
    "\n",
    "# Example usage\n",
    "predict(model, testloader, num_class=7)"
   ]
  }
 ],
 "metadata": {
  "accelerator": "GPU",
  "colab": {
   "gpuType": "T4",
   "provenance": []
  },
  "kernelspec": {
   "display_name": "Python 3 (ipykernel)",
   "language": "python",
   "name": "python3"
  },
  "language_info": {
   "codemirror_mode": {
    "name": "ipython",
    "version": 3
   },
   "file_extension": ".py",
   "mimetype": "text/x-python",
   "name": "python",
   "nbconvert_exporter": "python",
   "pygments_lexer": "ipython3",
   "version": "3.11.5"
  },
  "widgets": {
   "application/vnd.jupyter.widget-state+json": {
    "1b9598c1b1d745808d362b794d4bc81e": {
     "model_module": "@jupyter-widgets/controls",
     "model_module_version": "1.5.0",
     "model_name": "DescriptionStyleModel",
     "state": {
      "_model_module": "@jupyter-widgets/controls",
      "_model_module_version": "1.5.0",
      "_model_name": "DescriptionStyleModel",
      "_view_count": null,
      "_view_module": "@jupyter-widgets/base",
      "_view_module_version": "1.2.0",
      "_view_name": "StyleView",
      "description_width": ""
     }
    },
    "29ec1e57262c40998aeceb5d4e4b851d": {
     "model_module": "@jupyter-widgets/controls",
     "model_module_version": "1.5.0",
     "model_name": "HTMLModel",
     "state": {
      "_dom_classes": [],
      "_model_module": "@jupyter-widgets/controls",
      "_model_module_version": "1.5.0",
      "_model_name": "HTMLModel",
      "_view_count": null,
      "_view_module": "@jupyter-widgets/controls",
      "_view_module_version": "1.5.0",
      "_view_name": "HTMLView",
      "description": "",
      "description_tooltip": null,
      "layout": "IPY_MODEL_f71b8a43cd4143bfb23fe9624e55e532",
      "placeholder": "​",
      "style": "IPY_MODEL_a746ed84b66f4cd5b35691fc8ce27a91",
      "value": "model.safetensors: 100%"
     }
    },
    "3488b4b8a647497c98c42334e2e136aa": {
     "model_module": "@jupyter-widgets/controls",
     "model_module_version": "1.5.0",
     "model_name": "FloatProgressModel",
     "state": {
      "_dom_classes": [],
      "_model_module": "@jupyter-widgets/controls",
      "_model_module_version": "1.5.0",
      "_model_name": "FloatProgressModel",
      "_view_count": null,
      "_view_module": "@jupyter-widgets/controls",
      "_view_module_version": "1.5.0",
      "_view_name": "ProgressView",
      "bar_style": "success",
      "description": "",
      "description_tooltip": null,
      "layout": "IPY_MODEL_7ff73e4cdd06495bbfc791fc1f8b04ec",
      "max": 21355344,
      "min": 0,
      "orientation": "horizontal",
      "style": "IPY_MODEL_3d40e256807b42e493b7b410c67ec591",
      "value": 21355344
     }
    },
    "3d40e256807b42e493b7b410c67ec591": {
     "model_module": "@jupyter-widgets/controls",
     "model_module_version": "1.5.0",
     "model_name": "ProgressStyleModel",
     "state": {
      "_model_module": "@jupyter-widgets/controls",
      "_model_module_version": "1.5.0",
      "_model_name": "ProgressStyleModel",
      "_view_count": null,
      "_view_module": "@jupyter-widgets/base",
      "_view_module_version": "1.2.0",
      "_view_name": "StyleView",
      "bar_color": null,
      "description_width": ""
     }
    },
    "7804c7631c884320809965a499fdf1f0": {
     "model_module": "@jupyter-widgets/controls",
     "model_module_version": "1.5.0",
     "model_name": "HTMLModel",
     "state": {
      "_dom_classes": [],
      "_model_module": "@jupyter-widgets/controls",
      "_model_module_version": "1.5.0",
      "_model_name": "HTMLModel",
      "_view_count": null,
      "_view_module": "@jupyter-widgets/controls",
      "_view_module_version": "1.5.0",
      "_view_name": "HTMLView",
      "description": "",
      "description_tooltip": null,
      "layout": "IPY_MODEL_e073f57533d84d64a8fa1864aac6e0b9",
      "placeholder": "​",
      "style": "IPY_MODEL_1b9598c1b1d745808d362b794d4bc81e",
      "value": " 21.4M/21.4M [00:00&lt;00:00, 184MB/s]"
     }
    },
    "7ff73e4cdd06495bbfc791fc1f8b04ec": {
     "model_module": "@jupyter-widgets/base",
     "model_module_version": "1.2.0",
     "model_name": "LayoutModel",
     "state": {
      "_model_module": "@jupyter-widgets/base",
      "_model_module_version": "1.2.0",
      "_model_name": "LayoutModel",
      "_view_count": null,
      "_view_module": "@jupyter-widgets/base",
      "_view_module_version": "1.2.0",
      "_view_name": "LayoutView",
      "align_content": null,
      "align_items": null,
      "align_self": null,
      "border": null,
      "bottom": null,
      "display": null,
      "flex": null,
      "flex_flow": null,
      "grid_area": null,
      "grid_auto_columns": null,
      "grid_auto_flow": null,
      "grid_auto_rows": null,
      "grid_column": null,
      "grid_gap": null,
      "grid_row": null,
      "grid_template_areas": null,
      "grid_template_columns": null,
      "grid_template_rows": null,
      "height": null,
      "justify_content": null,
      "justify_items": null,
      "left": null,
      "margin": null,
      "max_height": null,
      "max_width": null,
      "min_height": null,
      "min_width": null,
      "object_fit": null,
      "object_position": null,
      "order": null,
      "overflow": null,
      "overflow_x": null,
      "overflow_y": null,
      "padding": null,
      "right": null,
      "top": null,
      "visibility": null,
      "width": null
     }
    },
    "91e08585db464e82bb152bc7b916b8ac": {
     "model_module": "@jupyter-widgets/base",
     "model_module_version": "1.2.0",
     "model_name": "LayoutModel",
     "state": {
      "_model_module": "@jupyter-widgets/base",
      "_model_module_version": "1.2.0",
      "_model_name": "LayoutModel",
      "_view_count": null,
      "_view_module": "@jupyter-widgets/base",
      "_view_module_version": "1.2.0",
      "_view_name": "LayoutView",
      "align_content": null,
      "align_items": null,
      "align_self": null,
      "border": null,
      "bottom": null,
      "display": null,
      "flex": null,
      "flex_flow": null,
      "grid_area": null,
      "grid_auto_columns": null,
      "grid_auto_flow": null,
      "grid_auto_rows": null,
      "grid_column": null,
      "grid_gap": null,
      "grid_row": null,
      "grid_template_areas": null,
      "grid_template_columns": null,
      "grid_template_rows": null,
      "height": null,
      "justify_content": null,
      "justify_items": null,
      "left": null,
      "margin": null,
      "max_height": null,
      "max_width": null,
      "min_height": null,
      "min_width": null,
      "object_fit": null,
      "object_position": null,
      "order": null,
      "overflow": null,
      "overflow_x": null,
      "overflow_y": null,
      "padding": null,
      "right": null,
      "top": null,
      "visibility": null,
      "width": null
     }
    },
    "9dfa674838a347d1ab8a3ec64fa78612": {
     "model_module": "@jupyter-widgets/controls",
     "model_module_version": "1.5.0",
     "model_name": "HBoxModel",
     "state": {
      "_dom_classes": [],
      "_model_module": "@jupyter-widgets/controls",
      "_model_module_version": "1.5.0",
      "_model_name": "HBoxModel",
      "_view_count": null,
      "_view_module": "@jupyter-widgets/controls",
      "_view_module_version": "1.5.0",
      "_view_name": "HBoxView",
      "box_style": "",
      "children": [
       "IPY_MODEL_29ec1e57262c40998aeceb5d4e4b851d",
       "IPY_MODEL_3488b4b8a647497c98c42334e2e136aa",
       "IPY_MODEL_7804c7631c884320809965a499fdf1f0"
      ],
      "layout": "IPY_MODEL_91e08585db464e82bb152bc7b916b8ac"
     }
    },
    "a746ed84b66f4cd5b35691fc8ce27a91": {
     "model_module": "@jupyter-widgets/controls",
     "model_module_version": "1.5.0",
     "model_name": "DescriptionStyleModel",
     "state": {
      "_model_module": "@jupyter-widgets/controls",
      "_model_module_version": "1.5.0",
      "_model_name": "DescriptionStyleModel",
      "_view_count": null,
      "_view_module": "@jupyter-widgets/base",
      "_view_module_version": "1.2.0",
      "_view_name": "StyleView",
      "description_width": ""
     }
    },
    "e073f57533d84d64a8fa1864aac6e0b9": {
     "model_module": "@jupyter-widgets/base",
     "model_module_version": "1.2.0",
     "model_name": "LayoutModel",
     "state": {
      "_model_module": "@jupyter-widgets/base",
      "_model_module_version": "1.2.0",
      "_model_name": "LayoutModel",
      "_view_count": null,
      "_view_module": "@jupyter-widgets/base",
      "_view_module_version": "1.2.0",
      "_view_name": "LayoutView",
      "align_content": null,
      "align_items": null,
      "align_self": null,
      "border": null,
      "bottom": null,
      "display": null,
      "flex": null,
      "flex_flow": null,
      "grid_area": null,
      "grid_auto_columns": null,
      "grid_auto_flow": null,
      "grid_auto_rows": null,
      "grid_column": null,
      "grid_gap": null,
      "grid_row": null,
      "grid_template_areas": null,
      "grid_template_columns": null,
      "grid_template_rows": null,
      "height": null,
      "justify_content": null,
      "justify_items": null,
      "left": null,
      "margin": null,
      "max_height": null,
      "max_width": null,
      "min_height": null,
      "min_width": null,
      "object_fit": null,
      "object_position": null,
      "order": null,
      "overflow": null,
      "overflow_x": null,
      "overflow_y": null,
      "padding": null,
      "right": null,
      "top": null,
      "visibility": null,
      "width": null
     }
    },
    "f71b8a43cd4143bfb23fe9624e55e532": {
     "model_module": "@jupyter-widgets/base",
     "model_module_version": "1.2.0",
     "model_name": "LayoutModel",
     "state": {
      "_model_module": "@jupyter-widgets/base",
      "_model_module_version": "1.2.0",
      "_model_name": "LayoutModel",
      "_view_count": null,
      "_view_module": "@jupyter-widgets/base",
      "_view_module_version": "1.2.0",
      "_view_name": "LayoutView",
      "align_content": null,
      "align_items": null,
      "align_self": null,
      "border": null,
      "bottom": null,
      "display": null,
      "flex": null,
      "flex_flow": null,
      "grid_area": null,
      "grid_auto_columns": null,
      "grid_auto_flow": null,
      "grid_auto_rows": null,
      "grid_column": null,
      "grid_gap": null,
      "grid_row": null,
      "grid_template_areas": null,
      "grid_template_columns": null,
      "grid_template_rows": null,
      "height": null,
      "justify_content": null,
      "justify_items": null,
      "left": null,
      "margin": null,
      "max_height": null,
      "max_width": null,
      "min_height": null,
      "min_width": null,
      "object_fit": null,
      "object_position": null,
      "order": null,
      "overflow": null,
      "overflow_x": null,
      "overflow_y": null,
      "padding": null,
      "right": null,
      "top": null,
      "visibility": null,
      "width": null
     }
    }
   }
  }
 },
 "nbformat": 4,
 "nbformat_minor": 4
}
